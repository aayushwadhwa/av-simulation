{
  "cells": [
    {
      "cell_type": "code",
      "execution_count": 2,
      "metadata": {
        "id": "yL6j1Yg0xH29"
      },
      "outputs": [],
      "source": [
        "import pandas as pd\n",
        "from numpy import split\n",
        "import numpy as np\n",
        "import torch\n",
        "import torch.nn as nn\n",
        "from torch.utils.data import DataLoader, Dataset, TensorDataset\n",
        "import matplotlib.pyplot as plt\n",
        "import os"
      ]
    },
    {
      "cell_type": "markdown",
      "metadata": {
        "id": "kHtWCBcDIw9K"
      },
      "source": [
        "Recurrent Neural Network"
      ]
    },
    {
      "cell_type": "code",
      "execution_count": 1,
      "metadata": {
        "id": "6kKxfVsxLcOE"
      },
      "outputs": [],
      "source": [
        "from sklearn.metrics import mean_squared_error\n",
        "from matplotlib import pyplot\n",
        "from keras.models import Sequential\n",
        "from keras.layers import Dense\n",
        "from keras.layers import Flatten\n",
        "from keras.layers import LSTM"
      ]
    },
    {
      "cell_type": "code",
      "execution_count": 47,
      "metadata": {
        "id": "aXk125xWxRJb"
      },
      "outputs": [],
      "source": [
        "SEQUENCE_LEN = 10\n",
        "EPOCHS = 10\n",
        "INPUT_DIM = 6\n",
        "HIDDEN_DIM = 200\n",
        "LSTM_LAYERS = 1\n",
        "LEARNING_RATE = 10e-4\n",
        "BATCH_SIZE = 30"
      ]
    },
    {
      "cell_type": "code",
      "execution_count": 48,
      "metadata": {
        "id": "RKkN89_IxVZk"
      },
      "outputs": [],
      "source": [
        "class DataPrep:\n",
        "    def __init__(self):\n",
        "        self.destdir = \"\"\n",
        "        self.filenames = []\n",
        "    \n",
        "    def get_files(self):\n",
        "        self.destdir = './data/training_data'\n",
        "        self.filenames = [os.path.join(self.destdir,f) for f in os.listdir(self.destdir) if os.path.isfile(os.path.join(self.destdir,f))]\n",
        "    \n",
        "    def get_from_csv(self, filename):\n",
        "        df = pd.read_csv(filename)\n",
        "        df.columns = [\"t\", \"v_leader\", \"x_leader\",\n",
        "                    \"v_follower\", \"x_follower\", \"v_human\", \"x_human\"]\n",
        "        df.drop(\"t\", axis=1, inplace=True)\n",
        "        return df\n",
        "    \n",
        "    def get_data(self):\n",
        "        print(\"Getting Data...\")\n",
        "        self.get_files()\n",
        "        df = pd.DataFrame()\n",
        "        print(\"Preparing Data...\")\n",
        "        i = 1\n",
        "        for filename in self.filenames:\n",
        "            temp_x = self.get_from_csv(filename)\n",
        "            df = df.append(temp_x)\n",
        "            if i % 20 == 19:\n",
        "                print(f'Processed data for {i} file(s)')\n",
        "            i += 1\n",
        "        return df\n",
        "    \n",
        "    def normalize(self, df):\n",
        "        # return (df - df.mean())/df.std()\n",
        "        return df"
      ]
    },
    {
      "cell_type": "code",
      "execution_count": 49,
      "metadata": {
        "id": "_irr4j9HxeEF"
      },
      "outputs": [],
      "source": [
        "def split_dataset(data):\n",
        "    train, test_dataset = data[1:-299], data[-299:-(SEQUENCE_LEN - 1)]\n",
        "    train = np.array(split(train, len(train)/SEQUENCE_LEN))\n",
        "    test = np.array(split(test_dataset, len(test_dataset)/SEQUENCE_LEN))\n",
        "    return train, test, test_dataset\n",
        "\n",
        "\n",
        "def to_supervised(data, n_input, n_out=SEQUENCE_LEN):\n",
        "    data = data.reshape((data.shape[0]*data.shape[1], data.shape[2]))\n",
        "    X, y = list(), list()\n",
        "    in_start = 0\n",
        "    for _ in range(len(data)):\n",
        "        in_end = in_start + n_input\n",
        "        out_end = in_end + n_out\n",
        "        if out_end <= len(data):\n",
        "            x_input = data[in_start:in_end, :]\n",
        "            X.append(x_input)\n",
        "            # y.append(data[in_end:out_end, :])\n",
        "            y.append(data[in_end, :])\n",
        "        in_start += 1\n",
        "    return np.array(X), np.array(y)\n",
        "\n",
        "\n",
        "def build_model(train, n_input):\n",
        "    train_x, train_y = to_supervised(train, n_input)\n",
        "    verbose, epochs, batch_size = 1, EPOCHS, 16\n",
        "    n_timesteps, n_features, n_outputs = train_x.shape[1], train_x.shape[2], train_y.shape[1]\n",
        "    model = Sequential()\n",
        "    model.add(LSTM(200, activation='relu', input_shape=(n_timesteps, n_features)))\n",
        "    model.add(Dense(100, activation='relu'))\n",
        "    model.add(Dense(n_outputs))\n",
        "    model.compile(loss='mse', optimizer='adam')\n",
        "    model.fit(train_x, train_y, epochs=epochs, batch_size=batch_size, verbose=verbose)\n",
        "    return model\n",
        "\n",
        "\n",
        "def forecast(model, data, n_input, steps=10):\n",
        "    data = np.array(data)\n",
        "    data = data.reshape((data.shape[0]*data.shape[1], data.shape[2]))\n",
        "    # retrieve last observations for input data\n",
        "    input_x = data[-n_input:, :]\n",
        "    # reshape into [1, n_input, n]\n",
        "    input_x = input_x.reshape((1, input_x.shape[0], input_x.shape[1]))\n",
        "    predictions = np.zeros((steps, input_x.shape[2]))\n",
        "    for i in range(steps):\n",
        "        yhat = model.predict(input_x, verbose=0)\n",
        "        predictions[i] = yhat[0]\n",
        "        temp = input_x[0][1:,:]  # Remove first row\n",
        "        temp = np.concatenate((temp, yhat), 0) # Add predicted row\n",
        "        input_x = temp.reshape((1, temp.shape[0], temp.shape[1]))\n",
        "    return predictions\n",
        "\n",
        "\n",
        "def evaluate_predictions(data, predictions):\n",
        "    fig, axs = plt.subplots(3, 2)\n",
        "    plot_axis = [(0,0), (0,1), (1,0), (1,1), (2,0), (2,1)]\n",
        "    plots = [\"v_leader\", \"x_leader\",\n",
        "                    \"v_follower\", \"x_follower\", \"v_human\", \"x_human\"]\n",
        "    for i, (x,y) in enumerate(plot_axis):\n",
        "        axs[x, y].plot(data[:, i], label=\"Data\")\n",
        "        axs[x, y].plot(predictions[:, i], label=\"Predicted\")\n",
        "        axs[x,y].set_title(plots[i])\n",
        "    plt.legend()\n",
        "    plt.show()"
      ]
    },
    {
      "cell_type": "code",
      "execution_count": null,
      "metadata": {
        "id": "6R5RaGnfxjB2"
      },
      "outputs": [],
      "source": [
        "data = DataPrep()\n",
        "dataset = data.get_data()\n",
        "train, test, test_dataset = split_dataset(dataset.values)\n",
        "model = build_model(train, SEQUENCE_LEN)"
      ]
    },
    {
      "cell_type": "code",
      "execution_count": 46,
      "metadata": {
        "colab": {
          "base_uri": "https://localhost:8080/",
          "height": 645
        },
        "id": "BQMmmLU_R-oB",
        "outputId": "619e05cd-3aea-47ee-a2e2-93d8afb19bf4"
      },
      "outputs": [
        {
          "name": "stdout",
          "output_type": "stream",
          "text": [
            "[[  6.44188738 705.32733154   6.82338285 687.83062744   6.06347513\n",
            "  662.27722168]\n",
            " [  6.44025469 705.82519531   6.83895111 688.38269043   6.0842514\n",
            "  662.7532959 ]\n",
            " [  6.49259329 706.45874023   6.87092209 688.93231201   6.12229681\n",
            "  663.16937256]\n",
            " [  6.5259347  707.11157227   6.85365725 689.54962158   6.12815619\n",
            "  663.71112061]\n",
            " [  6.52382326 707.66192627   6.81233883 690.10247803   6.11748838\n",
            "  664.2678833 ]\n",
            " [  6.55224037 708.2489624    6.81436729 690.64520264   6.13852739\n",
            "  664.71203613]\n",
            " [  6.57651615 708.83917236   6.8063302  691.20465088   6.15218878\n",
            "  665.19128418]\n",
            " [  6.58945799 709.41900635   6.79380417 691.78216553   6.15354252\n",
            "  665.7734375 ]\n",
            " [  6.65280104 710.08721924   6.84752512 692.35974121   6.19938755\n",
            "  666.18719482]\n",
            " [  6.68291903 710.74768066   6.82698441 692.99835205   6.22220373\n",
            "  666.78637695]]\n"
          ]
        },
        {
          "data": {
            "image/png": "[encoded data removed]",
            "text/plain": [
              "<Figure size 432x288 with 6 Axes>"
            ]
          },
          "metadata": {
            "needs_background": "light"
          },
          "output_type": "display_data"
        }
      ],
      "source": [
        "prediction_steps = 100\n",
        "predictions = forecast(model, train, SEQUENCE_LEN, prediction_steps)\n",
        "print(predictions)\n",
        "evaluate_predictions(test_dataset[:prediction_steps], predictions)"
      ]
    }
  ],
  "metadata": {
    "colab": {
      "collapsed_sections": [],
      "name": "Recurrent + Feedforward Network.ipynb",
      "provenance": []
    },
    "kernelspec": {
      "display_name": "Python 3",
      "name": "python3"
    },
    "language_info": {
      "name": "python"
    }
  },
  "nbformat": 4,
  "nbformat_minor": 0
}
